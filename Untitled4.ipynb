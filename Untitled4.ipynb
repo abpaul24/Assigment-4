{
 "cells": [
  {
   "cell_type": "code",
   "execution_count": 168,
   "metadata": {},
   "outputs": [],
   "source": [
    "import networkx as dx\n",
    "import matplotlib.pyplot as plt\n",
    "%matplotlib inline"
   ]
  },
  {
   "cell_type": "code",
   "execution_count": 179,
   "metadata": {},
   "outputs": [],
   "source": [
    "L = dx.Graph()\n",
    "G = dx.generators.krackhardt_kite_graph()"
   ]
  },
  {
   "cell_type": "code",
   "execution_count": 189,
   "metadata": {},
   "outputs": [
    {
     "name": "stdout",
     "output_type": "stream",
     "text": [
      "The Nodes of KrackHard's graph are: [0, 1, 2, 3, 4, 5, 6, 7, 8, 9]\n",
      "\n",
      "The Edges of KrackHard's graph are: \n",
      " [(0, 1), (0, 2), (0, 3), (0, 5), (1, 3), (1, 4), (1, 6), (2, 3), (2, 5), (3, 4), (3, 5), (3, 6), (4, 6), (5, 6), (5, 7), (6, 7), (7, 8), (8, 9)]\n"
     ]
    }
   ],
   "source": [
    "print(\"The Nodes of KrackHard's graph are:\", G.nodes())\n",
    "print(\"\")\n",
    "print(\"The Edges of KrackHard's graph are:\", \"\\n\", G.edges())"
   ]
  },
  {
   "cell_type": "code",
   "execution_count": 181,
   "metadata": {},
   "outputs": [
    {
     "data": {
      "text/plain": [
       "{1: 'Gabriel',\n",
       " 3: 'Beverly',\n",
       " 5: 'Ramiro',\n",
       " 6: 'Diane',\n",
       " 7: 'Ed',\n",
       " 2: 'Cadye-6',\n",
       " 8: 'Heather',\n",
       " 4: 'Ikea',\n",
       " 9: 'Batman',\n",
       " 0: 'Racheal'}"
      ]
     },
     "execution_count": 181,
     "metadata": {},
     "output_type": "execute_result"
    }
   ],
   "source": [
    "Names = {1: \"Gabriel\", 3:\"Beverly\", 5:\"Ramiro\", 6:\"Diane\", \n",
    "        7:\"Ed\", 2:\"Cadye-6\", 8:\"Heather\", 4:\"Ikea\", 9:\"Batman\", 0:\"Racheal\"}\n",
    "Names"
   ]
  },
  {
   "cell_type": "code",
   "execution_count": 182,
   "metadata": {},
   "outputs": [],
   "source": [
    "Graph1 = dx.Graph()"
   ]
  },
  {
   "cell_type": "code",
   "execution_count": 183,
   "metadata": {},
   "outputs": [],
   "source": [
    "List1 = [(0,1), (0,2), (0,3), (0,5), (1,3), (1,4), (1,6), (2,3), (2,5), (3,4), (3,5), (3,6), (4,6), (5,6), (5,7), (6,7), (7,8), (8,9)]\n",
    "\n"
   ]
  },
  {
   "cell_type": "code",
   "execution_count": 184,
   "metadata": {},
   "outputs": [],
   "source": [
    "List1 = G.edges()\n",
    "Graph1.add_edges_from(List1)"
   ]
  },
  {
   "cell_type": "code",
   "execution_count": 185,
   "metadata": {},
   "outputs": [
    {
     "name": "stdout",
     "output_type": "stream",
     "text": [
      "Here is the list of all Edges: \n",
      " [(0, 1), (0, 2), (0, 3), (0, 5), (1, 3), (1, 4), (1, 6), (2, 3), (2, 5), (3, 4), (3, 5), (3, 6), (5, 6), (5, 7), (4, 6), (6, 7), (7, 8), (8, 9)]\n"
     ]
    }
   ],
   "source": [
    "print(\"Here is the list of all Edges: \" \"\\n\", Graph1.edges())"
   ]
  },
  {
   "cell_type": "code",
   "execution_count": 186,
   "metadata": {
    "scrolled": true
   },
   "outputs": [
    {
     "name": "stdout",
     "output_type": "stream",
     "text": [
      "Names of all Nodes:  \n",
      " ['Racheal', 'Gabriel', 'Cadye-6', 'Beverly', 'Ramiro', 'Ikea', 'Diane', 'Ed', 'Heather', 'Batman']\n",
      "\n",
      "Name of all Edges connected:  \n",
      " [('Racheal', 'Gabriel'), ('Racheal', 'Cadye-6'), ('Racheal', 'Beverly'), ('Racheal', 'Ramiro'), ('Gabriel', 'Beverly'), ('Gabriel', 'Ikea'), ('Gabriel', 'Diane'), ('Cadye-6', 'Beverly'), ('Cadye-6', 'Ramiro'), ('Beverly', 'Ikea'), ('Beverly', 'Ramiro'), ('Beverly', 'Diane'), ('Ramiro', 'Diane'), ('Ramiro', 'Ed'), ('Ikea', 'Diane'), ('Diane', 'Ed'), ('Ed', 'Heather'), ('Heather', 'Batman')]\n"
     ]
    }
   ],
   "source": [
    "Jn = dx.relabel_nodes(G1,Names)\n",
    "print(\"Names of all Nodes: \", \"\\n\", Jn.nodes())\n",
    "print(\"\")\n",
    "print(\"Name of all Edges connected: \", \"\\n\", Jn.edges())"
   ]
  },
  {
   "cell_type": "code",
   "execution_count": 187,
   "metadata": {
    "scrolled": true
   },
   "outputs": [
    {
     "data": {
      "image/png": "[encoded data removed]",
      "text/plain": [
       "<Figure size 432x288 with 1 Axes>"
      ]
     },
     "metadata": {},
     "output_type": "display_data"
    }
   ],
   "source": [
    "nx.draw(Jn, with_labels =1)\n",
    "plt.show()\n"
   ]
  }
 ],
 "metadata": {
  "kernelspec": {
   "display_name": "Python 3",
   "language": "python",
   "name": "python3"
  },
  "language_info": {
   "codemirror_mode": {
    "name": "ipython",
    "version": 3
   },
   "file_extension": ".py",
   "mimetype": "text/x-python",
   "name": "python",
   "nbconvert_exporter": "python",
   "pygments_lexer": "ipython3",
   "version": "3.7.3"
  }
 },
 "nbformat": 4,
 "nbformat_minor": 2
}
